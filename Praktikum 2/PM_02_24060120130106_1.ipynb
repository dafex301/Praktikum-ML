{
  "cells": [
    {
      "cell_type": "markdown",
      "metadata": {},
      "source": [
        "# Praktikum ML 2 - 1\n",
        "## Fahrel Gibran Alghany - 24060120130106\n",
        "### Iris Dataset"
      ]
    },
    {
      "cell_type": "code",
      "execution_count": 28,
      "metadata": {
        "id": "xvhQMdda5OF5"
      },
      "outputs": [],
      "source": [
        "# Import library yang dibutuhkan\n",
        "import pandas as pd\n",
        "import matplotlib.pyplot as plt\n",
        "import seaborn as sns\n",
        "\n",
        "# Mendefinisikan link dataset\n",
        "path = \"https://archive.ics.uci.edu/ml/machine-learning-databases/iris/iris.data\"\n",
        "\n",
        "# Mendefinisikan list berisi kolom-kolom dataset\n",
        "names = ['sepal-l','sepal-w','petal-l','petal-w','class']\n",
        "\n",
        "data = pd.read_csv(path, names=names)"
      ]
    },
    {
      "cell_type": "code",
      "execution_count": 29,
      "metadata": {
        "colab": {
          "base_uri": "https://localhost:8080/",
          "height": 363
        },
        "id": "ZDmGWV8f5lan",
        "outputId": "9cd32ac7-594a-437c-aa52-01404ce37e33"
      },
      "outputs": [
        {
          "data": {
            "text/html": [
              "<div>\n",
              "<style scoped>\n",
              "    .dataframe tbody tr th:only-of-type {\n",
              "        vertical-align: middle;\n",
              "    }\n",
              "\n",
              "    .dataframe tbody tr th {\n",
              "        vertical-align: top;\n",
              "    }\n",
              "\n",
              "    .dataframe thead th {\n",
              "        text-align: right;\n",
              "    }\n",
              "</style>\n",
              "<table border=\"1\" class=\"dataframe\">\n",
              "  <thead>\n",
              "    <tr style=\"text-align: right;\">\n",
              "      <th></th>\n",
              "      <th>sepal-l</th>\n",
              "      <th>sepal-w</th>\n",
              "      <th>petal-l</th>\n",
              "      <th>petal-w</th>\n",
              "      <th>class</th>\n",
              "    </tr>\n",
              "  </thead>\n",
              "  <tbody>\n",
              "    <tr>\n",
              "      <th>0</th>\n",
              "      <td>5.1</td>\n",
              "      <td>3.5</td>\n",
              "      <td>1.4</td>\n",
              "      <td>0.2</td>\n",
              "      <td>Iris-setosa</td>\n",
              "    </tr>\n",
              "    <tr>\n",
              "      <th>1</th>\n",
              "      <td>4.9</td>\n",
              "      <td>3.0</td>\n",
              "      <td>1.4</td>\n",
              "      <td>0.2</td>\n",
              "      <td>Iris-setosa</td>\n",
              "    </tr>\n",
              "    <tr>\n",
              "      <th>2</th>\n",
              "      <td>4.7</td>\n",
              "      <td>3.2</td>\n",
              "      <td>1.3</td>\n",
              "      <td>0.2</td>\n",
              "      <td>Iris-setosa</td>\n",
              "    </tr>\n",
              "    <tr>\n",
              "      <th>3</th>\n",
              "      <td>4.6</td>\n",
              "      <td>3.1</td>\n",
              "      <td>1.5</td>\n",
              "      <td>0.2</td>\n",
              "      <td>Iris-setosa</td>\n",
              "    </tr>\n",
              "    <tr>\n",
              "      <th>4</th>\n",
              "      <td>5.0</td>\n",
              "      <td>3.6</td>\n",
              "      <td>1.4</td>\n",
              "      <td>0.2</td>\n",
              "      <td>Iris-setosa</td>\n",
              "    </tr>\n",
              "    <tr>\n",
              "      <th>5</th>\n",
              "      <td>5.4</td>\n",
              "      <td>3.9</td>\n",
              "      <td>1.7</td>\n",
              "      <td>0.4</td>\n",
              "      <td>Iris-setosa</td>\n",
              "    </tr>\n",
              "    <tr>\n",
              "      <th>6</th>\n",
              "      <td>4.6</td>\n",
              "      <td>3.4</td>\n",
              "      <td>1.4</td>\n",
              "      <td>0.3</td>\n",
              "      <td>Iris-setosa</td>\n",
              "    </tr>\n",
              "    <tr>\n",
              "      <th>7</th>\n",
              "      <td>5.0</td>\n",
              "      <td>3.4</td>\n",
              "      <td>1.5</td>\n",
              "      <td>0.2</td>\n",
              "      <td>Iris-setosa</td>\n",
              "    </tr>\n",
              "    <tr>\n",
              "      <th>8</th>\n",
              "      <td>4.4</td>\n",
              "      <td>2.9</td>\n",
              "      <td>1.4</td>\n",
              "      <td>0.2</td>\n",
              "      <td>Iris-setosa</td>\n",
              "    </tr>\n",
              "    <tr>\n",
              "      <th>9</th>\n",
              "      <td>4.9</td>\n",
              "      <td>3.1</td>\n",
              "      <td>1.5</td>\n",
              "      <td>0.1</td>\n",
              "      <td>Iris-setosa</td>\n",
              "    </tr>\n",
              "  </tbody>\n",
              "</table>\n",
              "</div>"
            ],
            "text/plain": [
              "   sepal-l  sepal-w  petal-l  petal-w        class\n",
              "0      5.1      3.5      1.4      0.2  Iris-setosa\n",
              "1      4.9      3.0      1.4      0.2  Iris-setosa\n",
              "2      4.7      3.2      1.3      0.2  Iris-setosa\n",
              "3      4.6      3.1      1.5      0.2  Iris-setosa\n",
              "4      5.0      3.6      1.4      0.2  Iris-setosa\n",
              "5      5.4      3.9      1.7      0.4  Iris-setosa\n",
              "6      4.6      3.4      1.4      0.3  Iris-setosa\n",
              "7      5.0      3.4      1.5      0.2  Iris-setosa\n",
              "8      4.4      2.9      1.4      0.2  Iris-setosa\n",
              "9      4.9      3.1      1.5      0.1  Iris-setosa"
            ]
          },
          "execution_count": 29,
          "metadata": {},
          "output_type": "execute_result"
        }
      ],
      "source": [
        "# Menampilkan 10 data teratas\n",
        "data.head(10)"
      ]
    },
    {
      "cell_type": "code",
      "execution_count": 30,
      "metadata": {
        "colab": {
          "base_uri": "https://localhost:8080/"
        },
        "id": "qV6mBYEI5oAv",
        "outputId": "238d97da-184d-4d56-d8b2-4304d11766de"
      },
      "outputs": [
        {
          "data": {
            "text/plain": [
              "(150, 5)"
            ]
          },
          "execution_count": 30,
          "metadata": {},
          "output_type": "execute_result"
        }
      ],
      "source": [
        "# Menampilkan dimensi dataset\n",
        "data.shape"
      ]
    },
    {
      "cell_type": "code",
      "execution_count": 31,
      "metadata": {
        "id": "YPs3rdE15p5J"
      },
      "outputs": [],
      "source": [
        "# Import library yang dibutuhkan\n",
        "from sklearn import model_selection\n",
        "\n",
        "# Menyimpan nilai-nilai dalam dataset ke dalam variabel array\n",
        "array = data.values\n",
        "\n",
        "# Menyimpan data fitur-fitur pada dataset ke dalam variabel X\n",
        "X = array[:,0:4]\n",
        "\n",
        "# Menyimpan data label pada dataset ke dalam variabel Y\n",
        "Y = array[:,4]\n",
        "\n",
        "# Mendefinisikan ukuran testing data dan seed untuk random state\n",
        "test_size = 0.20\n",
        "seed = 7\n",
        "\n",
        "# Memisahkan data menjadi training (dan validation) set dan testing set\n",
        "X_train, X_test, Y_train, Y_test = model_selection.train_test_split(X, Y, test_size=test_size, random_state=seed)"
      ]
    },
    {
      "cell_type": "code",
      "execution_count": 32,
      "metadata": {
        "id": "83fM-MA16G7a"
      },
      "outputs": [],
      "source": [
        "# Import library berisi algoritma klasifikasi yang akan digunakan\n",
        "from sklearn.tree import DecisionTreeClassifier\n",
        "from sklearn.ensemble import RandomForestClassifier\n",
        "from sklearn.svm import SVC\n",
        "\n",
        "# Import Naive Bayes\n",
        "from sklearn.naive_bayes import GaussianNB\n",
        "\n",
        "# Import Logistic Regression\n",
        "from sklearn.linear_model import LogisticRegression\n",
        "\n",
        "# Import K-Nearest Neighbor\n",
        "from sklearn.neighbors import KNeighborsClassifier\n",
        "\n",
        "# Mendefinisikan array kosong\n",
        "models = []\n",
        "\n",
        "# Membuat array asosiatif berisi nama algoritma dan algoritma klasifikasinya\n",
        "models.append(('Decision Tree', DecisionTreeClassifier()))\n",
        "models.append(('Random Forest', RandomForestClassifier()))\n",
        "models.append(('SVM', SVC()))\n",
        "models.append(('Naive Bayes', GaussianNB()))\n",
        "models.append(('Logistic Regression', LogisticRegression(max_iter=1000)))\n",
        "models.append(('K-Nearest Neighbor', KNeighborsClassifier()))"
      ]
    },
    {
      "cell_type": "code",
      "execution_count": 33,
      "metadata": {
        "id": "rigvbKHl6Nxr"
      },
      "outputs": [],
      "source": [
        "# Mendefinisikan seed dan scoring yang digunakan untuk menguji model dengan\n",
        "# validation data\n",
        "seed = 7\n",
        "scoring = 'accuracy'"
      ]
    },
    {
      "cell_type": "code",
      "execution_count": 34,
      "metadata": {
        "colab": {
          "base_uri": "https://localhost:8080/"
        },
        "id": "ZJDEkifK6QlR",
        "outputId": "9798e75f-0458-4455-84ea-efd7a7d34cdc"
      },
      "outputs": [
        {
          "name": "stdout",
          "output_type": "stream",
          "text": [
            "Decision Tree : 0.958333 (0.076830)\n",
            "Random Forest : 0.966667 (0.040825)\n",
            "SVM : 0.983333 (0.033333)\n",
            "Naive Bayes : 0.966667 (0.040825)\n",
            "Logistic Regression : 0.983333 (0.033333)\n",
            "K-Nearest Neighbor : 0.983333 (0.033333)\n"
          ]
        }
      ],
      "source": [
        "results = []\n",
        "names = []\n",
        "\n",
        "# Membagi data menjadi training dan validation set menggunakan k-fold cross \n",
        "# validation, dengan k = 10\n",
        "for name, model in models:\n",
        "  kfold = model_selection.KFold(n_splits=10, random_state=seed, shuffle=True)\n",
        "  \n",
        "  # Menguji akurasi dari masing-masing model menggunakan validation data\n",
        "  cv_results = model_selection.cross_val_score(model, X_train, Y_train, cv=kfold, scoring=scoring)\n",
        "  results.append(cv_results)\n",
        "  msg = \"%s : %f (%f)\" % (name, cv_results.mean(), cv_results.std())\n",
        "  print(msg)"
      ]
    },
    {
      "cell_type": "markdown",
      "metadata": {
        "id": "B7sVc-xl25vg"
      },
      "source": [
        "*Output* di atas menunjukkan bahwa algoritma SVM, Logistic Regression, dan KNN menghasilkan akurasi terbaik dari pengujian akurasi model klasifikasi (menggunakan validation set) yang dihasilkan dari proses pelatihan data (menggunakan training set)."
      ]
    },
    {
      "cell_type": "code",
      "execution_count": 35,
      "metadata": {
        "colab": {
          "base_uri": "https://localhost:8080/"
        },
        "id": "9DuLrUBu777K",
        "outputId": "1feebf93-fe57-4fbd-88d3-aed0bda4c9d8"
      },
      "outputs": [
        {
          "data": {
            "image/png": "[encoded data removed]",
            "text/plain": [
              "<Figure size 432x288 with 2 Axes>"
            ]
          },
          "metadata": {
            "needs_background": "light"
          },
          "output_type": "display_data"
        },
        {
          "name": "stdout",
          "output_type": "stream",
          "text": [
            "akurasi pada testing data :\n",
            "  0.8666666666666667\n",
            "classification report : \n",
            "                  precision    recall  f1-score   support\n",
            "\n",
            "    Iris-setosa       1.00      1.00      1.00         7\n",
            "Iris-versicolor       0.83      0.83      0.83        12\n",
            " Iris-virginica       0.82      0.82      0.82        11\n",
            "\n",
            "       accuracy                           0.87        30\n",
            "      macro avg       0.88      0.88      0.88        30\n",
            "   weighted avg       0.87      0.87      0.87        30\n",
            "\n"
          ]
        }
      ],
      "source": [
        "# Import library untuk mengevaluasi algoritma\n",
        "from sklearn.metrics import accuracy_score, confusion_matrix, classification_report\n",
        "\n",
        "# Mendefinisikan algoritma SVM \n",
        "svm = SVC()\n",
        "\n",
        "# Melatih data training dengan algoritma SVM\n",
        "svm.fit(X_train, Y_train)\n",
        "\n",
        "# Menguji model klasifikasi yang dihasilkan dari proses pelatihan data dengan\n",
        "# testing data.\n",
        "predictions = svm.predict(X_test)\n",
        "\n",
        "cm = confusion_matrix(Y_test, predictions)\n",
        "sns.heatmap(cm, annot=True, fmt='d', cmap='Blues')\n",
        "plt.show()\n",
        "\n",
        "print('akurasi pada testing data :\\n ', accuracy_score(Y_test, predictions))\n",
        "print('classification report : \\n', classification_report(Y_test, predictions\n",
        "))"
      ]
    },
    {
      "cell_type": "code",
      "execution_count": 36,
      "metadata": {},
      "outputs": [
        {
          "data": {
            "image/png": "[encoded data removed]",
            "text/plain": [
              "<Figure size 432x288 with 2 Axes>"
            ]
          },
          "metadata": {
            "needs_background": "light"
          },
          "output_type": "display_data"
        },
        {
          "name": "stdout",
          "output_type": "stream",
          "text": [
            "akurasi pada testing data :\n",
            "  0.9\n",
            "classification report : \n",
            "                  precision    recall  f1-score   support\n",
            "\n",
            "    Iris-setosa       1.00      1.00      1.00         7\n",
            "Iris-versicolor       0.85      0.92      0.88        12\n",
            " Iris-virginica       0.90      0.82      0.86        11\n",
            "\n",
            "       accuracy                           0.90        30\n",
            "      macro avg       0.92      0.91      0.91        30\n",
            "   weighted avg       0.90      0.90      0.90        30\n",
            "\n"
          ]
        }
      ],
      "source": [
        "# Import library untuk mengevaluasi algoritma\n",
        "from sklearn.metrics import accuracy_score, confusion_matrix, classification_report\n",
        "\n",
        "# Mendefinisikan algoritma knn \n",
        "knn = KNeighborsClassifier()\n",
        "\n",
        "# Melatih data training dengan algoritma knn\n",
        "knn.fit(X_train, Y_train)\n",
        "\n",
        "# Menguji model klasifikasi yang dihasilkan dari proses pelatihan data dengan\n",
        "# testing data.\n",
        "predictions = knn.predict(X_test)\n",
        "\n",
        "cm = confusion_matrix(Y_test, predictions)\n",
        "sns.heatmap(cm, annot=True, fmt='d', cmap='Blues')\n",
        "plt.show()\n",
        "print('akurasi pada testing data :\\n ', accuracy_score(Y_test, predictions))\n",
        "print('classification report : \\n', classification_report(Y_test, predictions))\n"
      ]
    },
    {
      "cell_type": "code",
      "execution_count": 37,
      "metadata": {},
      "outputs": [
        {
          "data": {
            "image/png": "[encoded data removed]",
            "text/plain": [
              "<Figure size 432x288 with 2 Axes>"
            ]
          },
          "metadata": {
            "needs_background": "light"
          },
          "output_type": "display_data"
        },
        {
          "name": "stdout",
          "output_type": "stream",
          "text": [
            "akurasi pada testing data :\n",
            "  0.8666666666666667\n",
            "classification report : \n",
            "                  precision    recall  f1-score   support\n",
            "\n",
            "    Iris-setosa       1.00      1.00      1.00         7\n",
            "Iris-versicolor       0.83      0.83      0.83        12\n",
            " Iris-virginica       0.82      0.82      0.82        11\n",
            "\n",
            "       accuracy                           0.87        30\n",
            "      macro avg       0.88      0.88      0.88        30\n",
            "   weighted avg       0.87      0.87      0.87        30\n",
            "\n"
          ]
        }
      ],
      "source": [
        "# Import library untuk mengevaluasi algoritma\n",
        "from sklearn.metrics import accuracy_score, confusion_matrix, classification_report\n",
        "\n",
        "# Mendefinisikan algoritma logistic_regression \n",
        "logistic_regression = LogisticRegression(max_iter=1000)\n",
        "\n",
        "# Melatih data training dengan algoritma logistic_regression\n",
        "logistic_regression.fit(X_train, Y_train)\n",
        "\n",
        "# Menguji model klasifikasi yang dihasilkan dari proses pelatihan data dengan\n",
        "# testing data.\n",
        "predictions = logistic_regression.predict(X_test)\n",
        "\n",
        "cm = confusion_matrix(Y_test, predictions)\n",
        "sns.heatmap(cm, annot=True, fmt='d', cmap='Blues')\n",
        "plt.show()\n",
        "print('akurasi pada testing data :\\n ', accuracy_score(Y_test, predictions))\n",
        "print('classification report : \\n', classification_report(Y_test, predictions))"
      ]
    },
    {
      "cell_type": "code",
      "execution_count": 38,
      "metadata": {},
      "outputs": [
        {
          "data": {
            "image/png": "[encoded data removed]",
            "text/plain": [
              "<Figure size 432x288 with 2 Axes>"
            ]
          },
          "metadata": {
            "needs_background": "light"
          },
          "output_type": "display_data"
        },
        {
          "name": "stdout",
          "output_type": "stream",
          "text": [
            "akurasi pada testing data :\n",
            "  0.8333333333333334\n",
            "classification report : \n",
            "                  precision    recall  f1-score   support\n",
            "\n",
            "    Iris-setosa       1.00      1.00      1.00         7\n",
            "Iris-versicolor       0.82      0.75      0.78        12\n",
            " Iris-virginica       0.75      0.82      0.78        11\n",
            "\n",
            "       accuracy                           0.83        30\n",
            "      macro avg       0.86      0.86      0.86        30\n",
            "   weighted avg       0.84      0.83      0.83        30\n",
            "\n"
          ]
        }
      ],
      "source": [
        "# Import library untuk mengevaluasi algoritma\n",
        "from sklearn.metrics import accuracy_score, confusion_matrix, classification_report\n",
        "\n",
        "# Mendefinisikan algoritma naive_bayes \n",
        "naive_bayes = GaussianNB()\n",
        "\n",
        "# Melatih data training dengan algoritma naive_bayes\n",
        "naive_bayes.fit(X_train, Y_train)\n",
        "\n",
        "# Menguji model klasifikasi yang dihasilkan dari proses pelatihan data dengan\n",
        "# testing data.\n",
        "predictions = naive_bayes.predict(X_test)\n",
        "\n",
        "cm = confusion_matrix(Y_test, predictions)\n",
        "sns.heatmap(cm, annot=True, fmt='d', cmap='Blues')\n",
        "plt.show()\n",
        "print('akurasi pada testing data :\\n ', accuracy_score(Y_test, predictions))\n",
        "print('classification report : \\n', classification_report(Y_test, predictions))"
      ]
    },
    {
      "cell_type": "markdown",
      "metadata": {},
      "source": [
        "# Akurasi Terbaik adalah Model dengan Algoritma *K-NN*"
      ]
    }
  ],
  "metadata": {
    "accelerator": "GPU",
    "colab": {
      "provenance": []
    },
    "kernelspec": {
      "display_name": "Python 3.9.13 64-bit (microsoft store)",
      "language": "python",
      "name": "python3"
    },
    "language_info": {
      "codemirror_mode": {
        "name": "ipython",
        "version": 3
      },
      "file_extension": ".py",
      "mimetype": "text/x-python",
      "name": "python",
      "nbconvert_exporter": "python",
      "pygments_lexer": "ipython3",
      "version": "3.9.13"
    },
    "vscode": {
      "interpreter": {
        "hash": "4c841cbd88aa48d280c31e7da08c729254285600e6d29ddd54d8cf489b11df73"
      }
    }
  },
  "nbformat": 4,
  "nbformat_minor": 0
}
